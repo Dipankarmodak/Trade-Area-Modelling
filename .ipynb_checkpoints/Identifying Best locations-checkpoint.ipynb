{
 "cells": [
  {
   "cell_type": "code",
   "execution_count": 1,
   "id": "5d46df4b-b043-4846-872b-7ea8a9081b44",
   "metadata": {},
   "outputs": [],
   "source": [
    "import pyspark\n",
    "import numpy as np"
   ]
  },
  {
   "cell_type": "code",
   "execution_count": 3,
   "id": "66a8c585-90b4-4a1a-899c-98373d1c7ec9",
   "metadata": {},
   "outputs": [],
   "source": [
    "\n",
    "# Specify the path to your Excel file\n",
    "file_path = \"Trade_Area_assignment.xlsx\"\n",
    "\n",
    "import pandas as pd\n",
    "from pyspark.sql import SparkSession\n",
    "\n",
    "# Read Excel using pandas\n",
    "distance = pd.read_excel(file_path, sheet_name=\"Distance\")\n",
    "census= pd.read_excel(file_path, sheet_name=\"Census\")\n",
    "stores=pd.read_excel(file_path, sheet_name=\"stores\")\n",
    "\n",
    "# Initialize SparkSession\n",
    "spark = SparkSession.builder.appName(\"ExcelReader\").getOrCreate()\n",
    "\n",
    "# Convert pandas DataFrame to Spark DataFrame\n",
    "df_distance = spark.createDataFrame(distance)\n",
    "df_census = spark.createDataFrame(census)\n",
    "df_stores = spark.createDataFrame(stores)"
   ]
  },
  {
   "cell_type": "code",
   "execution_count": 20,
   "id": "068f4377-75fe-4984-977e-48a5784d71b9",
   "metadata": {},
   "outputs": [
    {
     "name": "stdout",
     "output_type": "stream",
     "text": [
      "+--------------------+----------+-------------------+\n",
      "|  customer community|Households|Expenditure grocery|\n",
      "+--------------------+----------+-------------------+\n",
      "|              Adams |      4000|                800|\n",
      "|             Arleta |      8000|               1000|\n",
      "|    Atwater Village |     12000|               1100|\n",
      "|        Barnes City |      6000|                700|\n",
      "|            Bel Air |      1000|               1200|\n",
      "|Benedict-Coldwate...|      7000|                500|\n",
      "|          Echo Park |      9000|                700|\n",
      "|          San Pedro |      5000|                900|\n",
      "|       Sherman Oaks |      4000|               1400|\n",
      "|      Granada Hills |      5011|               1234|\n",
      "|   Lakeview Terrace |      4230|               1625|\n",
      "|      Panorama City |      4708|               1357|\n",
      "|        Toluca Lake |     10022|               1134|\n",
      "|      Warner Center |      9645|               1630|\n",
      "| Wholesale District |     11387|               1367|\n",
      "+--------------------+----------+-------------------+\n",
      "\n"
     ]
    }
   ],
   "source": [
    "df_census.show()"
   ]
  },
  {
   "cell_type": "code",
   "execution_count": 26,
   "id": "331f825d-4c11-4771-b4df-471b98bd1377",
   "metadata": {},
   "outputs": [],
   "source": [
    "from pyspark.sql.functions import col\n",
    "df_census=df_census.withColumn('total',col('Households')*col('Expenditure grocery'))"
   ]
  },
  {
   "cell_type": "code",
   "execution_count": 5,
   "id": "d429750c-c490-4e63-8f69-066c0856eca5",
   "metadata": {},
   "outputs": [
    {
     "name": "stdout",
     "output_type": "stream",
     "text": [
      "all done\n"
     ]
    }
   ],
   "source": [
    "print(\"all done\")"
   ]
  }
 ],
 "metadata": {
  "kernelspec": {
   "display_name": "PYSPARK_KERNEL",
   "language": "python",
   "name": "pyspark_kernel"
  },
  "language_info": {
   "codemirror_mode": {
    "name": "ipython",
    "version": 3
   },
   "file_extension": ".py",
   "mimetype": "text/x-python",
   "name": "python",
   "nbconvert_exporter": "python",
   "pygments_lexer": "ipython3",
   "version": "3.9.13"
  }
 },
 "nbformat": 4,
 "nbformat_minor": 5
}
