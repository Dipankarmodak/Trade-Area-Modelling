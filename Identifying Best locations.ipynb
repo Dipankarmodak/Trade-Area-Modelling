{
 "cells": [
  {
   "cell_type": "code",
   "execution_count": 1,
   "id": "5d46df4b-b043-4846-872b-7ea8a9081b44",
   "metadata": {},
   "outputs": [],
   "source": [
    "import pyspark\n",
    "import numpy as np"
   ]
  },
  {
   "cell_type": "code",
   "execution_count": 20,
   "id": "66a8c585-90b4-4a1a-899c-98373d1c7ec9",
   "metadata": {},
   "outputs": [],
   "source": [
    "\n",
    "# Specify the path to your Excel file\n",
    "file_path = \"Trade_Area_assignment.xlsx\"\n",
    "\n",
    "import pandas as pd\n",
    "from pyspark.sql import SparkSession\n",
    "\n",
    "# Read Excel using pandas\n",
    "distance = pd.read_excel(file_path, sheet_name=\"Distance\")\n",
    "census= pd.read_excel(file_path, sheet_name=\"Census\")\n",
    "stores=pd.read_excel(file_path, sheet_name=\"stores\")\n",
    "\n",
    "# Initialize SparkSession\n",
    "spark = SparkSession.builder.appName(\"ExcelReader\").getOrCreate()\n",
    "\n",
    "# Convert pandas DataFrame to Spark DataFrame\n",
    "df_distance = spark.createDataFrame(distance)\n",
    "df_census = spark.createDataFrame(census)\n",
    "df_stores = spark.createDataFrame(stores)"
   ]
  },
  {
   "cell_type": "code",
   "execution_count": 21,
   "id": "068f4377-75fe-4984-977e-48a5784d71b9",
   "metadata": {},
   "outputs": [
    {
     "name": "stdout",
     "output_type": "stream",
     "text": [
      "+--------------------+----------+-------------------+\n",
      "|  customer community|Households|Expenditure grocery|\n",
      "+--------------------+----------+-------------------+\n",
      "|              Adams |      4000|                800|\n",
      "|             Arleta |      8000|               1000|\n",
      "|    Atwater Village |     12000|               1100|\n",
      "|        Barnes City |      6000|                700|\n",
      "|            Bel Air |      1000|               1200|\n",
      "|Benedict-Coldwate...|      7000|                500|\n",
      "|          Echo Park |      9000|                700|\n",
      "|          San Pedro |      5000|                900|\n",
      "|       Sherman Oaks |      4000|               1400|\n",
      "|      Granada Hills |      5011|               1234|\n",
      "|   Lakeview Terrace |      4230|               1625|\n",
      "|      Panorama City |      4708|               1357|\n",
      "|        Toluca Lake |     10022|               1134|\n",
      "|      Warner Center |      9645|               1630|\n",
      "| Wholesale District |     11387|               1367|\n",
      "+--------------------+----------+-------------------+\n",
      "\n"
     ]
    }
   ],
   "source": [
    "df_census.show()"
   ]
  },
  {
   "cell_type": "code",
   "execution_count": 8,
   "id": "331f825d-4c11-4771-b4df-471b98bd1377",
   "metadata": {},
   "outputs": [],
   "source": [
    "from pyspark.sql.functions import col\n",
    "df_census=df_census.withColumn('total',col('Households')*col('Expenditure grocery'))"
   ]
  },
  {
   "cell_type": "code",
   "execution_count": 31,
   "id": "a194a46e-2a54-498e-952c-6fca07a8ea06",
   "metadata": {},
   "outputs": [],
   "source": [
    "attractiveness = df_stores.select(\"customer community\").rdd.flatMap(lambda x: x).collect()\n",
    "possible_store=np.unique(attractiveness)"
   ]
  },
  {
   "cell_type": "code",
   "execution_count": 33,
   "id": "99339df9-e467-46b4-9608-c6053a10dc60",
   "metadata": {},
   "outputs": [],
   "source": [
    "comm = df_distance.select(\"customer community\").rdd.flatMap(lambda x: x).collect()\n",
    "community=np.unique(comm)"
   ]
  },
  {
   "cell_type": "code",
   "execution_count": 34,
   "id": "35af0d9f-5eec-4b68-99bd-ec2b8dda73ce",
   "metadata": {},
   "outputs": [
    {
     "name": "stdout",
     "output_type": "stream",
     "text": [
      "[(np.str_('Adams '), np.str_('Echo Park ')), (np.str_('Adams '), np.str_('Granada Hills ')), (np.str_('Adams '), np.str_('Lakeview Terrace ')), (np.str_('Adams '), np.str_('Warner Center ')), (np.str_('Arleta '), np.str_('Echo Park ')), (np.str_('Arleta '), np.str_('Granada Hills ')), (np.str_('Arleta '), np.str_('Lakeview Terrace ')), (np.str_('Arleta '), np.str_('Warner Center ')), (np.str_('Atwater Village '), np.str_('Echo Park ')), (np.str_('Atwater Village '), np.str_('Granada Hills ')), (np.str_('Atwater Village '), np.str_('Lakeview Terrace ')), (np.str_('Atwater Village '), np.str_('Warner Center ')), (np.str_('Barnes City '), np.str_('Echo Park ')), (np.str_('Barnes City '), np.str_('Granada Hills ')), (np.str_('Barnes City '), np.str_('Lakeview Terrace ')), (np.str_('Barnes City '), np.str_('Warner Center ')), (np.str_('Bel Air '), np.str_('Echo Park ')), (np.str_('Bel Air '), np.str_('Granada Hills ')), (np.str_('Bel Air '), np.str_('Lakeview Terrace ')), (np.str_('Bel Air '), np.str_('Warner Center ')), (np.str_('Benedict-Coldwater Canyons '), np.str_('Echo Park ')), (np.str_('Benedict-Coldwater Canyons '), np.str_('Granada Hills ')), (np.str_('Benedict-Coldwater Canyons '), np.str_('Lakeview Terrace ')), (np.str_('Benedict-Coldwater Canyons '), np.str_('Warner Center ')), (np.str_('Echo Park '), np.str_('Echo Park ')), (np.str_('Echo Park '), np.str_('Granada Hills ')), (np.str_('Echo Park '), np.str_('Lakeview Terrace ')), (np.str_('Echo Park '), np.str_('Warner Center ')), (np.str_('Granada Hills '), np.str_('Echo Park ')), (np.str_('Granada Hills '), np.str_('Granada Hills ')), (np.str_('Granada Hills '), np.str_('Lakeview Terrace ')), (np.str_('Granada Hills '), np.str_('Warner Center ')), (np.str_('Lakeview Terrace '), np.str_('Echo Park ')), (np.str_('Lakeview Terrace '), np.str_('Granada Hills ')), (np.str_('Lakeview Terrace '), np.str_('Lakeview Terrace ')), (np.str_('Lakeview Terrace '), np.str_('Warner Center ')), (np.str_('Panorama City '), np.str_('Echo Park ')), (np.str_('Panorama City '), np.str_('Granada Hills ')), (np.str_('Panorama City '), np.str_('Lakeview Terrace ')), (np.str_('Panorama City '), np.str_('Warner Center ')), (np.str_('San Pedro '), np.str_('Echo Park ')), (np.str_('San Pedro '), np.str_('Granada Hills ')), (np.str_('San Pedro '), np.str_('Lakeview Terrace ')), (np.str_('San Pedro '), np.str_('Warner Center ')), (np.str_('Sherman Oaks '), np.str_('Echo Park ')), (np.str_('Sherman Oaks '), np.str_('Granada Hills ')), (np.str_('Sherman Oaks '), np.str_('Lakeview Terrace ')), (np.str_('Sherman Oaks '), np.str_('Warner Center ')), (np.str_('Toluca Lake '), np.str_('Echo Park ')), (np.str_('Toluca Lake '), np.str_('Granada Hills ')), (np.str_('Toluca Lake '), np.str_('Lakeview Terrace ')), (np.str_('Toluca Lake '), np.str_('Warner Center ')), (np.str_('Warner Center '), np.str_('Echo Park ')), (np.str_('Warner Center '), np.str_('Granada Hills ')), (np.str_('Warner Center '), np.str_('Lakeview Terrace ')), (np.str_('Warner Center '), np.str_('Warner Center ')), (np.str_('Wholesale District '), np.str_('Echo Park ')), (np.str_('Wholesale District '), np.str_('Granada Hills ')), (np.str_('Wholesale District '), np.str_('Lakeview Terrace ')), (np.str_('Wholesale District '), np.str_('Warner Center '))]\n"
     ]
    }
   ],
   "source": [
    "keys=[(x,y) for x in community for y in possible_store]\n",
    "print(keys)"
   ]
  },
  {
   "cell_type": "code",
   "execution_count": 42,
   "id": "f71275ab-9cfc-4f5d-8b6f-a6d849500b32",
   "metadata": {},
   "outputs": [
    {
     "name": "stdout",
     "output_type": "stream",
     "text": [
      "+------------------+--------------------+\n",
      "|customer community|     scaled_features|\n",
      "+------------------+--------------------+\n",
      "|        Echo Park |[0.28909952606635...|\n",
      "|    Granada Hills |[0.47867298578199...|\n",
      "|    Warner Center |[1.0,1.0,0.0,0.0,...|\n",
      "| Lakeview Terrace |[0.0,0.4545454545...|\n",
      "+------------------+--------------------+\n",
      "\n"
     ]
    }
   ],
   "source": [
    "from pyspark.ml.feature import MinMaxScaler,VectorAssembler\n",
    "spark = SparkSession.builder.appName(\"MinMaxScalerExample\").getOrCreate()\n",
    "\n",
    "scaler = MinMaxScaler(inputCol=\"features\", outputCol=\"scaled_features\")\n",
    "\n",
    "assembler = VectorAssembler(inputCols=columns_to_scale, outputCol=\"features\")\n",
    "df_assembled = assembler.transform(df_stores)\n",
    "\n",
    "# Apply MinMaxScaler to the 'features' column\n",
    "scaler = MinMaxScaler(inputCol=\"features\", outputCol=\"scaled_features\")\n",
    "scaler_model = scaler.fit(df_assembled)\n",
    "df_scaled = scaler_model.transform(df_assembled)\n",
    "\n",
    "# Show the scaled values\n",
    "df_scaled.select(\"customer community\", \"scaled_features\").show()"
   ]
  },
  {
   "cell_type": "code",
   "execution_count": 37,
   "id": "eb190e48-7f2f-405b-8a24-de9687955bed",
   "metadata": {},
   "outputs": [
    {
     "name": "stdout",
     "output_type": "stream",
     "text": [
      "+------------------+----+--------------+--------+-------+-------------+------+-------------------+\n",
      "|customer community|Size|Parking spaces|Highways|Traffic|Accessibility|Design|Business Comunities|\n",
      "+------------------+----+--------------+--------+-------+-------------+------+-------------------+\n",
      "|        Echo Park |1500|           400|       4|      4|           10|     7|                  5|\n",
      "|    Granada Hills |1900|           150|       8|      8|            5|     6|                  6|\n",
      "|    Warner Center |3000|           700|       3|      2|            8|     8|                  4|\n",
      "| Lakeview Terrace | 890|           400|       5|      6|            7|    10|                  3|\n",
      "+------------------+----+--------------+--------+-------+-------------+------+-------------------+\n",
      "\n"
     ]
    }
   ],
   "source": [
    "df_stores.show()"
   ]
  },
  {
   "cell_type": "code",
   "execution_count": null,
   "id": "7b088ad4-5d3d-4996-84f8-df5d93b0230b",
   "metadata": {},
   "outputs": [],
   "source": []
  }
 ],
 "metadata": {
  "kernelspec": {
   "display_name": "PYSPARK_KERNEL",
   "language": "python",
   "name": "pyspark_kernel"
  },
  "language_info": {
   "codemirror_mode": {
    "name": "ipython",
    "version": 3
   },
   "file_extension": ".py",
   "mimetype": "text/x-python",
   "name": "python",
   "nbconvert_exporter": "python",
   "pygments_lexer": "ipython3",
   "version": "3.9.13"
  }
 },
 "nbformat": 4,
 "nbformat_minor": 5
}
